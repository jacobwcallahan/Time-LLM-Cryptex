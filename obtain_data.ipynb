{
 "cells": [
  {
   "cell_type": "code",
   "execution_count": null,
   "id": "5e04c3f1",
   "metadata": {},
   "outputs": [],
   "source": []
  },
  {
   "cell_type": "code",
   "execution_count": 23,
   "id": "b92e284d",
   "metadata": {},
   "outputs": [
    {
     "name": "stderr",
     "output_type": "stream",
     "text": [
      "/tmp/ipykernel_599072/2684615471.py:4: FutureWarning: YF.download() has changed argument auto_adjust default to True\n",
      "  df = yf.download('BTC-USD', start='2025-01-01', end='2025-09-22', interval='1wk')\n",
      "[*********************100%***********************]  1 of 1 completed\n"
     ]
    }
   ],
   "source": [
    "import yfinance as yf\n",
    "import pandas as pd\n",
    "\n",
    "df = yf.download('BTC-USD', start='2025-01-01', end='2025-09-22', interval='1wk')\n"
   ]
  },
  {
   "cell_type": "code",
   "execution_count": 24,
   "id": "d48ca01d",
   "metadata": {},
   "outputs": [],
   "source": [
    "data = df.copy()"
   ]
  },
  {
   "cell_type": "code",
   "execution_count": 25,
   "id": "437443e0",
   "metadata": {},
   "outputs": [
    {
     "name": "stdout",
     "output_type": "stream",
     "text": [
      "Price               Close           High           Low           Open  \\\n",
      "Ticker            BTC-USD        BTC-USD       BTC-USD        BTC-USD   \n",
      "Date                                                                    \n",
      "2025-01-01   96922.703125  102712.484375  92788.125000   93425.101562   \n",
      "2025-01-08   96534.046875   97352.664062  89260.101562   96924.164062   \n",
      "2025-01-15  106146.265625  109114.882812  96501.640625   96534.046875   \n",
      "2025-01-22  101332.476562  107098.546875  97795.937500  106136.382812   \n",
      "2025-01-29   97871.820312  106418.765625  91242.890625  101317.523438   \n",
      "\n",
      "Price             Volume  \n",
      "Ticker           BTC-USD  \n",
      "Date                      \n",
      "2025-01-01  259517878648  \n",
      "2025-01-08  355206513683  \n",
      "2025-01-15  526047818939  \n",
      "2025-01-22  392990612048  \n",
      "2025-01-29  414333348359  \n",
      "Price               Close           High           Low           Open  \\\n",
      "Ticker            BTC-USD        BTC-USD       BTC-USD        BTC-USD   \n",
      "Date                                                                    \n",
      "2025-01-01   96922.703125  102712.484375  92788.125000   93425.101562   \n",
      "2025-01-08   96534.046875   97352.664062  89260.101562   96924.164062   \n",
      "2025-01-15  106146.265625  109114.882812  96501.640625   96534.046875   \n",
      "2025-01-22  101332.476562  107098.546875  97795.937500  106136.382812   \n",
      "2025-01-29   97871.820312  106418.765625  91242.890625  101317.523438   \n",
      "\n",
      "Price             Volume                      Date  \n",
      "Ticker           BTC-USD                            \n",
      "Date                                                \n",
      "2025-01-01  259517878648 2025-01-01 00:00:00+00:00  \n",
      "2025-01-08  355206513683 2025-01-08 00:00:00+00:00  \n",
      "2025-01-15  526047818939 2025-01-15 00:00:00+00:00  \n",
      "2025-01-22  392990612048 2025-01-22 00:00:00+00:00  \n",
      "2025-01-29  414333348359 2025-01-29 00:00:00+00:00  \n"
     ]
    }
   ],
   "source": [
    "print(df.head())\n",
    "df[\"Date\"] = pd.to_datetime(df.index, utc=True)\n",
    "print(df.head())"
   ]
  },
  {
   "cell_type": "code",
   "execution_count": 26,
   "id": "2227cc8c",
   "metadata": {},
   "outputs": [],
   "source": [
    "df[\"Date\"] = pd.to_datetime(df[\"Date\"]).astype(int) / 10**9\n"
   ]
  },
  {
   "cell_type": "code",
   "execution_count": 27,
   "id": "3e76ce05",
   "metadata": {},
   "outputs": [],
   "source": [
    "\n",
    "df.reset_index(drop=True, inplace=True)\n"
   ]
  },
  {
   "cell_type": "code",
   "execution_count": 28,
   "id": "8a5c47a1",
   "metadata": {},
   "outputs": [],
   "source": [
    "df.columns = [\"Date\", \"Open\", \"High\", \"Low\", \"Close\", \"Volume\"]\n",
    "df.to_csv(\"dataset/cryptex/candlesticks-W-full.csv\", index=False)"
   ]
  },
  {
   "cell_type": "code",
   "execution_count": null,
   "id": "e8e7e448",
   "metadata": {},
   "outputs": [],
   "source": []
  }
 ],
 "metadata": {
  "kernelspec": {
   "display_name": "cryptex",
   "language": "python",
   "name": "python3"
  },
  "language_info": {
   "codemirror_mode": {
    "name": "ipython",
    "version": 3
   },
   "file_extension": ".py",
   "mimetype": "text/x-python",
   "name": "python",
   "nbconvert_exporter": "python",
   "pygments_lexer": "ipython3",
   "version": "3.11.13"
  }
 },
 "nbformat": 4,
 "nbformat_minor": 5
}
