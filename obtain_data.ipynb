{
 "cells": [
  {
   "cell_type": "code",
   "execution_count": null,
   "id": "5e04c3f1",
   "metadata": {},
   "outputs": [],
   "source": []
  },
  {
   "cell_type": "code",
   "execution_count": 23,
   "id": "b92e284d",
   "metadata": {},
   "outputs": [
    {
     "name": "stderr",
     "output_type": "stream",
     "text": [
      "/tmp/ipykernel_599072/2684615471.py:4: FutureWarning: YF.download() has changed argument auto_adjust default to True\n",
      "  df = yf.download('BTC-USD', start='2025-01-01', end='2025-09-22', interval='1wk')\n",
      "[*********************100%***********************]  1 of 1 completed\n"
     ]
    }
   ],
   "source": [
    "import yfinance as yf\n",
    "import pandas as pd\n",
    "\n",
    "df = yf.download('BTC-USD', start='2025-01-01', end='2025-09-22', interval='1wk')\n"
   ]
  },
  {
   "cell_type": "code",
   "execution_count": 24,
   "id": "d48ca01d",
   "metadata": {},
   "outputs": [],
   "source": [
    "data = df.copy()"
   ]
  },
  {
   "cell_type": "code",
   "execution_count": 25,
   "id": "437443e0",
   "metadata": {},
   "outputs": [
    {
     "name": "stdout",
     "output_type": "stream",
     "text": [
      "Price               Close           High           Low           Open  \\\n",
      "Ticker            BTC-USD        BTC-USD       BTC-USD        BTC-USD   \n",
      "Date                                                                    \n",
      "2025-01-01   96922.703125  102712.484375  92788.125000   93425.101562   \n",
      "2025-01-08   96534.046875   97352.664062  89260.101562   96924.164062   \n",
      "2025-01-15  106146.265625  109114.882812  96501.640625   96534.046875   \n",
      "2025-01-22  101332.476562  107098.546875  97795.937500  106136.382812   \n",
      "2025-01-29   97871.820312  106418.765625  91242.890625  101317.523438   \n",
      "\n",
      "Price             Volume  \n",
      "Ticker           BTC-USD  \n",
      "Date                      \n",
      "2025-01-01  259517878648  \n",
      "2025-01-08  355206513683  \n",
      "2025-01-15  526047818939  \n",
      "2025-01-22  392990612048  \n",
      "2025-01-29  414333348359  \n",
      "Price               Close           High           Low           Open  \\\n",
      "Ticker            BTC-USD        BTC-USD       BTC-USD        BTC-USD   \n",
      "Date                                                                    \n",
      "2025-01-01   96922.703125  102712.484375  92788.125000   93425.101562   \n",
      "2025-01-08   96534.046875   97352.664062  89260.101562   96924.164062   \n",
      "2025-01-15  106146.265625  109114.882812  96501.640625   96534.046875   \n",
      "2025-01-22  101332.476562  107098.546875  97795.937500  106136.382812   \n",
      "2025-01-29   97871.820312  106418.765625  91242.890625  101317.523438   \n",
      "\n",
      "Price             Volume                      Date  \n",
      "Ticker           BTC-USD                            \n",
      "Date                                                \n",
      "2025-01-01  259517878648 2025-01-01 00:00:00+00:00  \n",
      "2025-01-08  355206513683 2025-01-08 00:00:00+00:00  \n",
      "2025-01-15  526047818939 2025-01-15 00:00:00+00:00  \n",
      "2025-01-22  392990612048 2025-01-22 00:00:00+00:00  \n",
      "2025-01-29  414333348359 2025-01-29 00:00:00+00:00  \n"
     ]
    }
   ],
   "source": [
    "print(df.head())\n",
    "df[\"Date\"] = pd.to_datetime(df.index, utc=True)\n",
    "print(df.head())"
   ]
  },
  {
   "cell_type": "code",
   "execution_count": 26,
   "id": "2227cc8c",
   "metadata": {},
   "outputs": [],
   "source": [
    "df[\"Date\"] = pd.to_datetime(df[\"Date\"]).astype(int) / 10**9\n"
   ]
  },
  {
   "cell_type": "code",
   "execution_count": 27,
   "id": "3e76ce05",
   "metadata": {},
   "outputs": [],
   "source": [
    "\n",
    "df.reset_index(drop=True, inplace=True)\n"
   ]
  },
  {
   "cell_type": "code",
   "execution_count": 28,
   "id": "8a5c47a1",
   "metadata": {},
   "outputs": [],
   "source": [
    "df.columns = [\"Date\", \"Open\", \"High\", \"Low\", \"Close\", \"Volume\"]\n",
    "df.to_csv(\"dataset/cryptex/candlesticks-W-full.csv\", index=False)"
   ]
  },
  {
   "cell_type": "code",
   "execution_count": 34,
   "id": "e8e7e448",
   "metadata": {},
   "outputs": [],
   "source": [
    "df = pd.read_csv(\"dataset/cryptex/candlesticks-W-2025.csv\")\n"
   ]
  },
  {
   "cell_type": "code",
   "execution_count": 35,
   "id": "0013654b",
   "metadata": {},
   "outputs": [],
   "source": [
    "df = df[[\"Date\", \"Open\", \"High\", \"Low\", \"Close\", \"Volume\"]]\n",
    "df.columns = [\"timestamp\", \"open\", \"high\", \"low\", \"close\", \"volume\"]\n",
    "\n",
    "df.to_csv(\"dataset/cryptex/candlesticks-W-2025.csv\", index=False)\n"
   ]
  },
  {
   "cell_type": "code",
   "execution_count": 33,
   "id": "d54eda75",
   "metadata": {},
   "outputs": [
    {
     "ename": "TypeError",
     "evalue": "cannot convert the series to <class 'int'>",
     "output_type": "error",
     "traceback": [
      "\u001b[31m---------------------------------------------------------------------------\u001b[39m",
      "\u001b[31mTypeError\u001b[39m                                 Traceback (most recent call last)",
      "\u001b[36mCell\u001b[39m\u001b[36m \u001b[39m\u001b[32mIn[33]\u001b[39m\u001b[32m, line 1\u001b[39m\n\u001b[32m----> \u001b[39m\u001b[32m1\u001b[39m df[\u001b[33m\"\u001b[39m\u001b[33mtimestamp\u001b[39m\u001b[33m\"\u001b[39m] = \u001b[38;5;28;43mint\u001b[39;49m\u001b[43m(\u001b[49m\u001b[43mdf\u001b[49m\u001b[43m[\u001b[49m\u001b[33;43m\"\u001b[39;49m\u001b[33;43mtimestamp\u001b[39;49m\u001b[33;43m\"\u001b[39;49m\u001b[43m]\u001b[49m\u001b[43m)\u001b[49m\n",
      "\u001b[36mFile \u001b[39m\u001b[32m~/anaconda3/envs/cryptex/lib/python3.11/site-packages/pandas/core/series.py:206\u001b[39m, in \u001b[36m_coerce_method.<locals>.wrapper\u001b[39m\u001b[34m(self)\u001b[39m\n\u001b[32m    204\u001b[39m \u001b[38;5;28;01mif\u001b[39;00m \u001b[38;5;28mlen\u001b[39m(\u001b[38;5;28mself\u001b[39m) == \u001b[32m1\u001b[39m:\n\u001b[32m    205\u001b[39m     \u001b[38;5;28;01mreturn\u001b[39;00m converter(\u001b[38;5;28mself\u001b[39m.iloc[\u001b[32m0\u001b[39m])\n\u001b[32m--> \u001b[39m\u001b[32m206\u001b[39m \u001b[38;5;28;01mraise\u001b[39;00m \u001b[38;5;167;01mTypeError\u001b[39;00m(\u001b[33mf\u001b[39m\u001b[33m\"\u001b[39m\u001b[33mcannot convert the series to \u001b[39m\u001b[38;5;132;01m{\u001b[39;00mconverter\u001b[38;5;132;01m}\u001b[39;00m\u001b[33m\"\u001b[39m)\n",
      "\u001b[31mTypeError\u001b[39m: cannot convert the series to <class 'int'>"
     ]
    }
   ],
   "source": []
  },
  {
   "cell_type": "code",
   "execution_count": null,
   "id": "028ca9d5",
   "metadata": {},
   "outputs": [],
   "source": [
    "import numpy as np\n",
    "def convert_to_returns(data, log_returns=False):\n",
    "    \"\"\"\n",
    "    Convert data to returns.\n",
    "\n",
    "    args:\n",
    "        data: pandas DataFrame with \"close\" and \"volume\" columns\n",
    "        log_returns: bool, if True, the data is converted to log returns\n",
    "    returns:\n",
    "        pandas DataFrame with \"returns\" and \"volume\" columns\n",
    "    \"\"\"\n",
    "    data = pd.DataFrame({\"close\": data[\"close\"], \"volume\": data[\"volume\"], \"timestamp\": data[\"timestamp\"]})\n",
    "    if log_returns:\n",
    "        data[\"returns\"] = np.log(data[\"close\"] / data[\"close\"].shift(1))\n",
    "    else:\n",
    "        data[\"returns\"] = data[\"close\"] / data[\"close\"].shift(1) - 1\n",
    "    data = data.drop(\"close\", axis=1).dropna().reset_index(drop=True)\n",
    "\n",
    "    data = data[[\"timestamp\", \"returns\", \"volume\"]]\n",
    "\n",
    "    return data\n"
   ]
  },
  {
   "cell_type": "code",
   "execution_count": 38,
   "id": "e09b2ddd",
   "metadata": {},
   "outputs": [],
   "source": [
    "df = pd.read_csv(\"dataset/cryptex/candlesticks-W-2014-2024.csv\")\n"
   ]
  },
  {
   "cell_type": "code",
   "execution_count": 40,
   "id": "beec0a4a",
   "metadata": {},
   "outputs": [
    {
     "ename": "KeyError",
     "evalue": "'close'",
     "output_type": "error",
     "traceback": [
      "\u001b[31m---------------------------------------------------------------------------\u001b[39m",
      "\u001b[31mKeyError\u001b[39m                                  Traceback (most recent call last)",
      "\u001b[36mFile \u001b[39m\u001b[32m~/anaconda3/envs/cryptex/lib/python3.11/site-packages/pandas/core/indexes/base.py:3802\u001b[39m, in \u001b[36mIndex.get_loc\u001b[39m\u001b[34m(self, key, method, tolerance)\u001b[39m\n\u001b[32m   3801\u001b[39m \u001b[38;5;28;01mtry\u001b[39;00m:\n\u001b[32m-> \u001b[39m\u001b[32m3802\u001b[39m     \u001b[38;5;28;01mreturn\u001b[39;00m \u001b[38;5;28;43mself\u001b[39;49m\u001b[43m.\u001b[49m\u001b[43m_engine\u001b[49m\u001b[43m.\u001b[49m\u001b[43mget_loc\u001b[49m\u001b[43m(\u001b[49m\u001b[43mcasted_key\u001b[49m\u001b[43m)\u001b[49m\n\u001b[32m   3803\u001b[39m \u001b[38;5;28;01mexcept\u001b[39;00m \u001b[38;5;167;01mKeyError\u001b[39;00m \u001b[38;5;28;01mas\u001b[39;00m err:\n",
      "\u001b[36mFile \u001b[39m\u001b[32m~/anaconda3/envs/cryptex/lib/python3.11/site-packages/pandas/_libs/index.pyx:138\u001b[39m, in \u001b[36mpandas._libs.index.IndexEngine.get_loc\u001b[39m\u001b[34m()\u001b[39m\n",
      "\u001b[36mFile \u001b[39m\u001b[32m~/anaconda3/envs/cryptex/lib/python3.11/site-packages/pandas/_libs/index.pyx:165\u001b[39m, in \u001b[36mpandas._libs.index.IndexEngine.get_loc\u001b[39m\u001b[34m()\u001b[39m\n",
      "\u001b[36mFile \u001b[39m\u001b[32mpandas/_libs/hashtable_class_helper.pxi:5745\u001b[39m, in \u001b[36mpandas._libs.hashtable.PyObjectHashTable.get_item\u001b[39m\u001b[34m()\u001b[39m\n",
      "\u001b[36mFile \u001b[39m\u001b[32mpandas/_libs/hashtable_class_helper.pxi:5753\u001b[39m, in \u001b[36mpandas._libs.hashtable.PyObjectHashTable.get_item\u001b[39m\u001b[34m()\u001b[39m\n",
      "\u001b[31mKeyError\u001b[39m: 'close'",
      "\nThe above exception was the direct cause of the following exception:\n",
      "\u001b[31mKeyError\u001b[39m                                  Traceback (most recent call last)",
      "\u001b[36mCell\u001b[39m\u001b[36m \u001b[39m\u001b[32mIn[40]\u001b[39m\u001b[32m, line 1\u001b[39m\n\u001b[32m----> \u001b[39m\u001b[32m1\u001b[39m df = \u001b[43mconvert_to_returns\u001b[49m\u001b[43m(\u001b[49m\u001b[43mdf\u001b[49m\u001b[43m)\u001b[49m\n",
      "\u001b[36mCell\u001b[39m\u001b[36m \u001b[39m\u001b[32mIn[37]\u001b[39m\u001b[32m, line 11\u001b[39m, in \u001b[36mconvert_to_returns\u001b[39m\u001b[34m(data, log_returns)\u001b[39m\n\u001b[32m      1\u001b[39m \u001b[38;5;28;01mdef\u001b[39;00m\u001b[38;5;250m \u001b[39m\u001b[34mconvert_to_returns\u001b[39m(data, log_returns=\u001b[38;5;28;01mFalse\u001b[39;00m):\n\u001b[32m      2\u001b[39m \u001b[38;5;250m    \u001b[39m\u001b[33;03m\"\"\"\u001b[39;00m\n\u001b[32m      3\u001b[39m \u001b[33;03m    Convert data to returns.\u001b[39;00m\n\u001b[32m      4\u001b[39m \n\u001b[32m   (...)\u001b[39m\u001b[32m      9\u001b[39m \u001b[33;03m        pandas DataFrame with \"returns\" and \"volume\" columns\u001b[39;00m\n\u001b[32m     10\u001b[39m \u001b[33;03m    \"\"\"\u001b[39;00m\n\u001b[32m---> \u001b[39m\u001b[32m11\u001b[39m     data = pd.DataFrame({\u001b[33m\"\u001b[39m\u001b[33mclose\u001b[39m\u001b[33m\"\u001b[39m: \u001b[43mdata\u001b[49m\u001b[43m[\u001b[49m\u001b[33;43m\"\u001b[39;49m\u001b[33;43mclose\u001b[39;49m\u001b[33;43m\"\u001b[39;49m\u001b[43m]\u001b[49m, \u001b[33m\"\u001b[39m\u001b[33mvolume\u001b[39m\u001b[33m\"\u001b[39m: data[\u001b[33m\"\u001b[39m\u001b[33mvolume\u001b[39m\u001b[33m\"\u001b[39m], \u001b[33m\"\u001b[39m\u001b[33mtimestamp\u001b[39m\u001b[33m\"\u001b[39m: data[\u001b[33m\"\u001b[39m\u001b[33mtimestamp\u001b[39m\u001b[33m\"\u001b[39m]})\n\u001b[32m     12\u001b[39m     \u001b[38;5;28;01mif\u001b[39;00m log_returns:\n\u001b[32m     13\u001b[39m         data[\u001b[33m\"\u001b[39m\u001b[33mreturns\u001b[39m\u001b[33m\"\u001b[39m] = np.log(data[\u001b[33m\"\u001b[39m\u001b[33mclose\u001b[39m\u001b[33m\"\u001b[39m] / data[\u001b[33m\"\u001b[39m\u001b[33mclose\u001b[39m\u001b[33m\"\u001b[39m].shift(\u001b[32m1\u001b[39m))\n",
      "\u001b[36mFile \u001b[39m\u001b[32m~/anaconda3/envs/cryptex/lib/python3.11/site-packages/pandas/core/frame.py:3807\u001b[39m, in \u001b[36mDataFrame.__getitem__\u001b[39m\u001b[34m(self, key)\u001b[39m\n\u001b[32m   3805\u001b[39m \u001b[38;5;28;01mif\u001b[39;00m \u001b[38;5;28mself\u001b[39m.columns.nlevels > \u001b[32m1\u001b[39m:\n\u001b[32m   3806\u001b[39m     \u001b[38;5;28;01mreturn\u001b[39;00m \u001b[38;5;28mself\u001b[39m._getitem_multilevel(key)\n\u001b[32m-> \u001b[39m\u001b[32m3807\u001b[39m indexer = \u001b[38;5;28;43mself\u001b[39;49m\u001b[43m.\u001b[49m\u001b[43mcolumns\u001b[49m\u001b[43m.\u001b[49m\u001b[43mget_loc\u001b[49m\u001b[43m(\u001b[49m\u001b[43mkey\u001b[49m\u001b[43m)\u001b[49m\n\u001b[32m   3808\u001b[39m \u001b[38;5;28;01mif\u001b[39;00m is_integer(indexer):\n\u001b[32m   3809\u001b[39m     indexer = [indexer]\n",
      "\u001b[36mFile \u001b[39m\u001b[32m~/anaconda3/envs/cryptex/lib/python3.11/site-packages/pandas/core/indexes/base.py:3804\u001b[39m, in \u001b[36mIndex.get_loc\u001b[39m\u001b[34m(self, key, method, tolerance)\u001b[39m\n\u001b[32m   3802\u001b[39m     \u001b[38;5;28;01mreturn\u001b[39;00m \u001b[38;5;28mself\u001b[39m._engine.get_loc(casted_key)\n\u001b[32m   3803\u001b[39m \u001b[38;5;28;01mexcept\u001b[39;00m \u001b[38;5;167;01mKeyError\u001b[39;00m \u001b[38;5;28;01mas\u001b[39;00m err:\n\u001b[32m-> \u001b[39m\u001b[32m3804\u001b[39m     \u001b[38;5;28;01mraise\u001b[39;00m \u001b[38;5;167;01mKeyError\u001b[39;00m(key) \u001b[38;5;28;01mfrom\u001b[39;00m\u001b[38;5;250m \u001b[39m\u001b[34;01merr\u001b[39;00m\n\u001b[32m   3805\u001b[39m \u001b[38;5;28;01mexcept\u001b[39;00m \u001b[38;5;167;01mTypeError\u001b[39;00m:\n\u001b[32m   3806\u001b[39m     \u001b[38;5;66;03m# If we have a listlike key, _check_indexing_error will raise\u001b[39;00m\n\u001b[32m   3807\u001b[39m     \u001b[38;5;66;03m#  InvalidIndexError. Otherwise we fall through and re-raise\u001b[39;00m\n\u001b[32m   3808\u001b[39m     \u001b[38;5;66;03m#  the TypeError.\u001b[39;00m\n\u001b[32m   3809\u001b[39m     \u001b[38;5;28mself\u001b[39m._check_indexing_error(key)\n",
      "\u001b[31mKeyError\u001b[39m: 'close'"
     ]
    }
   ],
   "source": [
    "df = convert_to_returns(df)"
   ]
  },
  {
   "cell_type": "code",
   "execution_count": 42,
   "id": "d97ab133",
   "metadata": {},
   "outputs": [],
   "source": [
    "df.to_csv(\"dataset/cryptex/returns-2014-2024.csv\", index=False)"
   ]
  }
 ],
 "metadata": {
  "kernelspec": {
   "display_name": "cryptex",
   "language": "python",
   "name": "python3"
  },
  "language_info": {
   "codemirror_mode": {
    "name": "ipython",
    "version": 3
   },
   "file_extension": ".py",
   "mimetype": "text/x-python",
   "name": "python",
   "nbconvert_exporter": "python",
   "pygments_lexer": "ipython3",
   "version": "3.11.13"
  }
 },
 "nbformat": 4,
 "nbformat_minor": 5
}
